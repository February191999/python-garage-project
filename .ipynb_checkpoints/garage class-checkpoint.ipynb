{
 "cells": [
  {
   "cell_type": "code",
   "execution_count": null,
   "id": "0f4516c0",
   "metadata": {},
   "outputs": [],
   "source": [
    "class Garage():\n",
    "    '''\n",
    "        Has 3 attributes: tickets, parkingSpaces, and currentTicket.\n",
    "        \n",
    "        \n",
    "        tickets is expected to be a list,\n",
    "        parkingSpaces is expected to be a list,\n",
    "        and currentTicket is expected to be a dictionary.\n",
    "        \n",
    "        Class has 3 methods: takeTicket, payForParking, and leaveGarage.\n",
    "        \n",
    "        \n",
    "        takeTicket decreases the amount of tickets available in the tickets and parkingSpaces list by 1.\n",
    "        \n",
    "        payForParking displays an input that waits for an amount from the user and stores it in a variable,\n",
    "        if the payment variable is not empty (meaning ticket has been paid) then display a message to the user\n",
    "        that their ticket has been paid and they have 15 mins to leave. This updates the currentTicket dictionary \n",
    "        key paid to True.\n",
    "        \n",
    "        leaveGarage displays a message of \"Thank You, have a nice day!\" if ticket has been paid. If ticket has not been paid, \n",
    "        display an input prompt for payment. Once paid, display message \"Thank You, have a nice day!\" After ticket has been paid,\n",
    "        update parkingSpaces list and tickets list to increase by 1.\n",
    "    '''\n",
    "    \n",
    "    def __init__(self, tickets, parkingSpaces, currentTicket):\n",
    "        self.tickets = tickets\n",
    "        self.parkingSpaces = parkingSpaces\n",
    "        self.currentTicket = currentTicket\n",
    "        \n",
    "    def takeTicket(self, tickets, parkingSpaces):\n",
    "        tickets.pop(0)\n",
    "        parkingSpaces.pop(0)\n",
    "        \n",
    "    def payForParking():\n",
    "        fee = input(\"Please pay $1.55 for your parking fee: \")\n",
    "        if fee == '':\n",
    "            print(\"Your ticket has been paid, you have 15 mins to leave the garage.\")\n",
    "        \n",
    "        currentTicket['paid'] = True\n",
    "    \n",
    "    def leaveGarage():\n",
    "        if currentTicket['paid'] == True:\n",
    "            print(\"Thank You, have a nice day!\")\n",
    "        if currentTicket['paid'] != True:\n",
    "            pay_fee = input(\"Please pay $1.55 for your parking fee: \")\n",
    "            \n",
    "            if pay_fee == ' ':\n",
    "                print(\"Your ticket has been paid, you have 15 mins to leave the garage. Thank You, have a nice day!\")\n",
    "                \n",
    "                \n",
    "                parkingSpaces.append() "
   ]
  }
 ],
 "metadata": {
  "kernelspec": {
   "display_name": "Python 3 (ipykernel)",
   "language": "python",
   "name": "python3"
  },
  "language_info": {
   "codemirror_mode": {
    "name": "ipython",
    "version": 3
   },
   "file_extension": ".py",
   "mimetype": "text/x-python",
   "name": "python",
   "nbconvert_exporter": "python",
   "pygments_lexer": "ipython3",
   "version": "3.9.7"
  }
 },
 "nbformat": 4,
 "nbformat_minor": 5
}
